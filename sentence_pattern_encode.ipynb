{
 "cells": [
  {
   "cell_type": "markdown",
   "id": "7b6ac635",
   "metadata": {},
   "source": [
    "A program to see if word is at an odd position: \"reverse the word\"\n",
    "if word is at an even position: \"Captalize the first letter of the word\""
   ]
  },
  {
   "cell_type": "code",
   "execution_count": null,
   "id": "6da262ca",
   "metadata": {},
   "outputs": [],
   "source": [
    "s=input()\n",
    "w=s.split()\n",
    "\n",
    "e=[]\n",
    "\n",
    "for i in range(len(w)):\n",
    "  if i%2==1:\n",
    "    e.append(w[i][::-1])\n",
    "  else:\n",
    "    e.append(w[i].capitalize())\n",
    "    \n",
    "es=' '.join(e)\n",
    "print(es)"
   ]
  }
 ],
 "metadata": {
  "kernelspec": {
   "display_name": "Python 3 (ipykernel)",
   "language": "python",
   "name": "python3"
  },
  "language_info": {
   "codemirror_mode": {
    "name": "ipython",
    "version": 3
   },
   "file_extension": ".py",
   "mimetype": "text/x-python",
   "name": "python",
   "nbconvert_exporter": "python",
   "pygments_lexer": "ipython3",
   "version": "3.10.9"
  }
 },
 "nbformat": 4,
 "nbformat_minor": 5
}
