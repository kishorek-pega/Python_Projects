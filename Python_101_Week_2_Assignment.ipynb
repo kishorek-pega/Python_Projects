{
 "cells": [
  {
   "cell_type": "markdown",
   "metadata": {
    "id": "_EHF4IQ2JBxu",
    "nbgrader": {
     "grade": false,
     "grade_id": "cell-39806162dd625703",
     "locked": true,
     "schema_version": 3,
     "solution": false,
     "task": false
    }
   },
   "source": [
    "# Python Foundation Assignment 02 (Mandatory)"
   ]
  },
  {
   "cell_type": "markdown",
   "metadata": {
    "id": "8P4zN6RTJBxy",
    "nbgrader": {
     "grade": false,
     "grade_id": "Q1",
     "locked": true,
     "schema_version": 3,
     "solution": false,
     "task": false
    }
   },
   "source": [
    "### 1. String Manipulation\n",
    "\n",
    "Match the following string methods with the respective output in the below options\n",
    "\n",
    "Here,\n",
    " `string= \"this is old python course\"`"
   ]
  },
  {
   "cell_type": "markdown",
   "metadata": {
    "id": "-yyLRSlkJBxz"
   },
   "source": [
    "| Statement | Output |\n",
    "| --- | --- |\n",
    "| (a) string.count(\"is\") | (1) True |\n",
    "| (b) string.replace(\"old\", \"new\") | (2) 12 |\n",
    "| (c) string.index(\"python\") | (3) 'this is new python course' |\n",
    "| (d) string.startswith(\"this\") | (4) 2 |\n",
    "| (e) string.isalnum() | (5) False |\n",
    "| (g) string.strip(\"this is old\") | (6) 'python course' |"
   ]
  },
  {
   "cell_type": "markdown",
   "metadata": {
    "id": "GPIDRqvXJBxz",
    "nbgrader": {
     "grade": true,
     "grade_id": "A1",
     "locked": false,
     "points": 2,
     "schema_version": 3,
     "solution": true,
     "task": false
    }
   },
   "source": [
    "#YOUR ANSWER HERE"
   ]
  },
  {
   "cell_type": "markdown",
   "metadata": {
    "id": "zqV0AfIAJBx0",
    "nbgrader": {
     "grade": false,
     "grade_id": "cell-a13189a026c3771d",
     "locked": true,
     "schema_version": 3,
     "solution": false,
     "task": false
    }
   },
   "source": [
    "### 2 Nested Conditions\n",
    "\n",
    "\n",
    "\n"
   ]
  },
  {
   "cell_type": "code",
   "execution_count": 1,
   "metadata": {
    "id": "jPs-qepZJBx0"
   },
   "outputs": [
    {
     "name": "stdout",
     "output_type": "stream",
     "text": [
      "-1\n",
      "4\n",
      "1\n",
      "P2\n",
      "N1\n"
     ]
    }
   ],
   "source": [
    "x = int(input())\n",
    "y = int(input())\n",
    "z = int(input())\n",
    "\n",
    "#Block-1 Start\n",
    "\n",
    "if x > 0 or y> 0 or z > 0:\n",
    "    if (x > 0 and y> 0) or (y> 0 and z> 0) or (z> 0 and x > 0):\n",
    "        if x > 0 and y> 0 and z > 0:\n",
    "            print('P3')\n",
    "        else:\n",
    "            print('P2')\n",
    "    else:\n",
    "        print('P1')\n",
    "\n",
    "#Block-1 End\n",
    "\n",
    "\n",
    "# Block-2 Start\n",
    "\n",
    "if x <0 or y<0 or z < 0:\n",
    "    if (x < 0 and y< 0) or (y< 0 and z< 0) or (z< 0 and x < 0):\n",
    "            if x < 0 and y< 0 and z < 0:\n",
    "                print('N3')\n",
    "            else:\n",
    "                print('N2')\n",
    "    else:\n",
    "        print('N1')\n",
    "\n",
    "\n",
    "#Block-2 End"
   ]
  },
  {
   "cell_type": "markdown",
   "metadata": {
    "id": "4T0VxZnhJBx1"
   },
   "source": [
    "What will be the output for the below input of x,y and z?\n",
    "\n",
    "x= -1\n",
    "y= 4\n",
    "z= 1"
   ]
  },
  {
   "cell_type": "markdown",
   "metadata": {
    "id": "DDSnUbnDJBx2",
    "nbgrader": {
     "grade": true,
     "grade_id": "cell-5b0ec5b5f53b7705",
     "locked": false,
     "points": 2,
     "schema_version": 3,
     "solution": true,
     "task": false
    }
   },
   "source": [
    "#YOUR ANSWER HERE\n",
    "-1\n",
    "4\n",
    "1\n",
    "P2\n",
    "N1"
   ]
  },
  {
   "cell_type": "markdown",
   "metadata": {
    "id": "62D8vhvzJBx2",
    "nbgrader": {
     "grade": false,
     "grade_id": "Q2",
     "locked": true,
     "schema_version": 3,
     "solution": false,
     "task": false
    }
   },
   "source": [
    "### 3. String slicing\n"
   ]
  },
  {
   "cell_type": "code",
   "execution_count": 5,
   "metadata": {
    "id": "LwohAZBzJBx3"
   },
   "outputs": [
    {
     "name": "stdout",
     "output_type": "stream",
     "text": [
      "7\n",
      "15\n",
      "0\n",
      "4\n",
      "0\n",
      "tqnkheb\n",
      "zk\n",
      "\n",
      "z\n",
      "zwtqnkheb\n"
     ]
    }
   ],
   "source": [
    "a = int(input())\n",
    "\n",
    "b= int(input())\n",
    "\n",
    "c= int(input())\n",
    "\n",
    "d = int(input())\n",
    "\n",
    "e = int(input())\n",
    "\n",
    "s='abcdefghijklmnopqrstuvwxyz'\n",
    "\n",
    "print(s[-a:-len(s):-3])\n",
    "\n",
    "print (s[::-b])\n",
    "\n",
    "print (s[c:0:-3])\n",
    "\n",
    "print (s[len(s): - d:-3])\n",
    "\n",
    "print (s[:e:-3])"
   ]
  },
  {
   "cell_type": "markdown",
   "metadata": {
    "id": "eWyswxOPJBx3",
    "nbgrader": {
     "grade": true,
     "grade_id": "A2",
     "locked": false,
     "points": 2,
     "schema_version": 3,
     "solution": true,
     "task": false
    }
   },
   "source": [
    "Consider that the string `s='abcdefghijklmnopqrstuvwxyz'`\\\n",
    "For what user input of a, b, c, d and e (where 0 <= a,b,c,d,e< len(s) ) does the above code-snippet print following output?\\\n",
    "It is a Numerical Answer Type (NAT) question. Enter your input value separated by, without any space like: 7,15,0,4,0\n",
    "\n",
    "`zwtqnkheb`\n",
    "\n",
    "`zwtqnkheb`\n",
    "\n",
    "`zwtqnkheb`\n",
    "\n",
    "`zwtqnkheb`\n",
    "\n",
    "`zwtqnkheb`"
   ]
  },
  {
   "cell_type": "code",
   "execution_count": null,
   "metadata": {
    "id": "i7rD4nKXJBx3",
    "nbgrader": {
     "grade": false,
     "grade_id": "cell-c583dcd635f03dab",
     "locked": true,
     "schema_version": 3,
     "solution": false,
     "task": false
    }
   },
   "outputs": [],
   "source": [
    "#YOUR ANSWERE HERE"
   ]
  },
  {
   "cell_type": "markdown",
   "metadata": {
    "id": "M1ojkWmAJBx4",
    "nbgrader": {
     "grade": false,
     "grade_id": "Q3",
     "locked": true,
     "schema_version": 3,
     "solution": false,
     "task": false
    }
   },
   "source": [
    "### 4. Code Brackets\n",
    "\n",
    "Consider the program in the code cell below;"
   ]
  },
  {
   "cell_type": "code",
   "execution_count": 11,
   "metadata": {
    "id": "UhvWzEEBJBx4"
   },
   "outputs": [
    {
     "name": "stdout",
     "output_type": "stream",
     "text": [
      "True\n"
     ]
    }
   ],
   "source": [
    "s = \"abcd(efgh(ijkl}{{}))\"\n",
    "\n",
    "match= False\n",
    "if s.count('(') == s.count(')'):\n",
    "    if s.count('{') == s.count('}'):\n",
    "        if s.count('[') == s.count(']'):\n",
    "            match = True\n",
    "            print(match)"
   ]
  },
  {
   "cell_type": "markdown",
   "metadata": {
    "id": "eQlX-sJnJBx4",
    "nbgrader": {
     "grade": true,
     "grade_id": "A3",
     "locked": false,
     "points": 2,
     "schema_version": 3,
     "solution": true,
     "task": false
    }
   },
   "source": [
    "If s = \"abcd(efgh(ijkl}{{}))\" what will be the value of match at the end of execution and justification?\n",
    "\n",
    "1. False, the number of opening and closing brackets are only considered\n",
    "2. False, the position of opening and closing brackets are not considered.\n",
    "3. True, the number of opening and closing brackets are only considered\n",
    "4. True, the number and position of opening and closing brackets are considered.\n"
   ]
  },
  {
   "cell_type": "code",
   "execution_count": null,
   "metadata": {
    "id": "gtJFxDVnJBx5",
    "nbgrader": {
     "grade": false,
     "grade_id": "cell-f0e0b9c35862e705",
     "locked": true,
     "schema_version": 3,
     "solution": false,
     "task": false
    }
   },
   "outputs": [],
   "source": [
    "#YOUR ANSWER HERE"
   ]
  },
  {
   "cell_type": "markdown",
   "metadata": {
    "id": "lk08MJbdJBx5"
   },
   "source": [
    "## Programming Questions\n",
    "\n",
    "Instructions:\n",
    "- Enter your solution in the cell block below only. Double click to edit.\n",
    "- Do not edit anything else apart from 'YOUR ANSWER HERE' for your solution"
   ]
  },
  {
   "cell_type": "code",
   "execution_count": null,
   "metadata": {
    "id": "S9OHQBnNJBx5"
   },
   "outputs": [],
   "source": [
    "#YOUR ANSWER HERE"
   ]
  },
  {
   "cell_type": "markdown",
   "metadata": {
    "id": "P4SRa2CBJBx5"
   },
   "source": [
    "### 1. Accept a sentence as input and find the number of words in it. Assume that the sentence has no punctuation marks\n",
    "\n",
    "\n",
    "Example:\n",
    "\n",
    "what a shot - 3 words\n",
    "\n",
    "this is a chair - 4 words"
   ]
  },
  {
   "cell_type": "code",
   "execution_count": null,
   "metadata": {
    "id": "g-wxgrl2JBx6"
   },
   "outputs": [],
   "source": [
    "sentence = input()\n",
    "\n",
    "sen = sentence.split()\n",
    "\n",
    "print(len(sen))"
   ]
  },
  {
   "cell_type": "markdown",
   "metadata": {
    "id": "LRy-8dqBJBx6"
   },
   "source": [
    "### 2. Sandwich number\n",
    "\n",
    "A three digit number is called a sandwich number if the difference between its first and last digit is equal to its middle digit. Accept a three digit number as input and print “sandwich” if the number is a sandwich number. Print “plain” if the number is not a sandwich number. For example, 123 and 853 are sandwich numbers."
   ]
  },
  {
   "cell_type": "code",
   "execution_count": null,
   "metadata": {
    "id": "OL4cliWGJBx6"
   },
   "outputs": [],
   "source": [
    "num = input()\n",
    "\n",
    "if int(num[0]) - int(num[2]) == int(num[1]):\n",
    "  print('sandwich')\n",
    "else :\n",
    "  print('plain')\n"
   ]
  },
  {
   "cell_type": "markdown",
   "metadata": {
    "id": "4fQCvNXySMDu"
   },
   "source": [
    "### 3. User Score\n",
    "\n",
    "You are a forum admin. You wish to find out the total score of each user using the scoring logic given below. If the user scores more than 50, then the user is given a Leader badge, otherwise a Basic badge is given."
   ]
  },
  {
   "cell_type": "markdown",
   "metadata": {
    "id": "46rX_JCLSMDu"
   },
   "source": [
    "| Action | Points |\n",
    "| --- | --- |\n",
    "| read a post | 1 |\n",
    "| replied to a post | 3 |\n",
    "| created a new post | 5 |"
   ]
  },
  {
   "cell_type": "markdown",
   "metadata": {
    "id": "uBZku-_ASMDu"
   },
   "source": [
    "Implement the body of the function `user_score`. The function accepts 3 integer arguments- `read_count, reply_count, new_post_count`. It calculates the score based on the input counts and returns `Leader` or `Basic`."
   ]
  },
  {
   "cell_type": "code",
   "execution_count": null,
   "metadata": {
    "id": "nD1sgImRSMDv"
   },
   "outputs": [],
   "source": [
    "def user_score(read_count, reply_count, new_post_count):\n",
    "    score = read_count + reply_count + new_post_count\n",
    "    \n",
    "    if score >= 50:\n",
    "        print('Leader')\n",
    "    else :\n",
    "        'Basic'\n",
    "user_score(1,3,5)"
   ]
  }
 ],
 "metadata": {
  "celltoolbar": "Create Assignment",
  "colab": {
   "provenance": []
  },
  "kernelspec": {
   "display_name": "Python 3 (ipykernel)",
   "language": "python",
   "name": "python3"
  },
  "language_info": {
   "codemirror_mode": {
    "name": "ipython",
    "version": 3
   },
   "file_extension": ".py",
   "mimetype": "text/x-python",
   "name": "python",
   "nbconvert_exporter": "python",
   "pygments_lexer": "ipython3",
   "version": "3.10.9"
  },
  "toc": {
   "base_numbering": 1,
   "nav_menu": {},
   "number_sections": true,
   "sideBar": true,
   "skip_h1_title": false,
   "title_cell": "Table of Contents",
   "title_sidebar": "Contents",
   "toc_cell": false,
   "toc_position": {},
   "toc_section_display": true,
   "toc_window_display": false
  },
  "varInspector": {
   "cols": {
    "lenName": 16,
    "lenType": 16,
    "lenVar": 40
   },
   "kernels_config": {
    "python": {
     "delete_cmd_postfix": "",
     "delete_cmd_prefix": "del ",
     "library": "var_list.py",
     "varRefreshCmd": "print(var_dic_list())"
    },
    "r": {
     "delete_cmd_postfix": ") ",
     "delete_cmd_prefix": "rm(",
     "library": "var_list.r",
     "varRefreshCmd": "cat(var_dic_list()) "
    }
   },
   "types_to_exclude": [
    "module",
    "function",
    "builtin_function_or_method",
    "instance",
    "_Feature"
   ],
   "window_display": false
  }
 },
 "nbformat": 4,
 "nbformat_minor": 1
}
