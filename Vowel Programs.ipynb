{
 "cells": [
  {
   "cell_type": "markdown",
   "id": "c913bafd",
   "metadata": {},
   "source": [
    "WAP to print a sentence if start with a vowel to print the first and last letter of the words"
   ]
  },
  {
   "cell_type": "code",
   "execution_count": 27,
   "id": "b6a4563e",
   "metadata": {},
   "outputs": [
    {
     "name": "stdout",
     "output_type": "stream",
     "text": [
      "The quick brown fox used to sleep inside this box\n",
      "The quick brown fox ud to sleep ie this box\n"
     ]
    }
   ],
   "source": [
    "sentence = input()\n",
    "words = sentence.split()\n",
    "encoded_words = []\n",
    "\n",
    "for word in words:\n",
    "    if word[0].lower() in 'aeiou':\n",
    "        encoded_words.append(word[0] + word[-1])\n",
    "    else:\n",
    "        encoded_words.append(word)\n",
    "msg = ' '.join(encoded_words)\n",
    "print(msg)"
   ]
  },
  {
   "cell_type": "markdown",
   "id": "ee513460",
   "metadata": {},
   "source": [
    "WAP to print a sentence if the words start with a consonant then exclude the vowels in it"
   ]
  },
  {
   "cell_type": "code",
   "execution_count": 29,
   "id": "815f10c0",
   "metadata": {},
   "outputs": [
    {
     "name": "stdout",
     "output_type": "stream",
     "text": [
      "The quick brown fox used to sleep inside this box\n",
      "Th qck brwn fx sd t slp nsd ths bx\n"
     ]
    }
   ],
   "source": [
    "sentence = input()\n",
    "words = sentence.split()\n",
    "encoded_words = []\n",
    "\n",
    "for word in words:\n",
    "    string = ''\n",
    "    for char in word:\n",
    "        if char[0].lower() not in 'aeiou':\n",
    "            string+=char\n",
    "    encoded_words.append(string)\n",
    "msg = ' '.join(encoded_words)\n",
    "print(msg)"
   ]
  }
 ],
 "metadata": {
  "kernelspec": {
   "display_name": "Python 3 (ipykernel)",
   "language": "python",
   "name": "python3"
  },
  "language_info": {
   "codemirror_mode": {
    "name": "ipython",
    "version": 3
   },
   "file_extension": ".py",
   "mimetype": "text/x-python",
   "name": "python",
   "nbconvert_exporter": "python",
   "pygments_lexer": "ipython3",
   "version": "3.10.9"
  }
 },
 "nbformat": 4,
 "nbformat_minor": 5
}
