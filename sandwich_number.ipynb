{
 "cells": [
  {
   "cell_type": "code",
   "execution_count": null,
   "id": "0e675383",
   "metadata": {},
   "outputs": [],
   "source": [
    "### program to check the sandwich number which the diff of first and second number is the middle number "
   ]
  },
  {
   "cell_type": "code",
   "execution_count": 1,
   "id": "e6e8fb76",
   "metadata": {},
   "outputs": [
    {
     "name": "stdout",
     "output_type": "stream",
     "text": [
      "123\n",
      "plain\n"
     ]
    }
   ],
   "source": [
    "num = input()\n",
    "\n",
    "if int(num[0]) - int(num[2]) == int(num[1]):\n",
    "  print('sandwich')\n",
    "else :\n",
    "  print('plain')"
   ]
  }
 ],
 "metadata": {
  "kernelspec": {
   "display_name": "Python 3 (ipykernel)",
   "language": "python",
   "name": "python3"
  },
  "language_info": {
   "codemirror_mode": {
    "name": "ipython",
    "version": 3
   },
   "file_extension": ".py",
   "mimetype": "text/x-python",
   "name": "python",
   "nbconvert_exporter": "python",
   "pygments_lexer": "ipython3",
   "version": "3.10.9"
  }
 },
 "nbformat": 4,
 "nbformat_minor": 5
}
