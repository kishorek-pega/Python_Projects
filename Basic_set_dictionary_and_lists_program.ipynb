{
 "cells": [
  {
   "cell_type": "markdown",
   "id": "66f83b08",
   "metadata": {},
   "source": [
    "Gives the fabonacci series  "
   ]
  },
  {
   "cell_type": "code",
   "execution_count": null,
   "id": "7715fa56",
   "metadata": {},
   "outputs": [],
   "source": [
    "def fibbonaci(num):\n",
    " series=[0,1]\n",
    " for i in range(len(series), num):\n",
    "   series.append(series[i-1]+series[i-2])\n",
    " return series\n",
    "\n",
    "\n",
    "n=int(input())\n",
    "series=fibbonaci(n)\n",
    "print(series)"
   ]
  },
  {
   "cell_type": "markdown",
   "id": "715c7e60",
   "metadata": {},
   "source": [
    "Write a Python function that takes a sorted list of numbers and a target number as input \n",
    "and returns the index of the target number in the list if it is present or -1 if it is not present. \n",
    "Implement the binary search algorithm to accomplish this."
   ]
  },
  {
   "cell_type": "code",
   "execution_count": null,
   "id": "9d57cb21",
   "metadata": {},
   "outputs": [],
   "source": [
    "def sorted_num(numbers,tar_num) :\n",
    "    numbers.sort()\n",
    "    \n",
    "    middle_index = len(numbers) // 2\n",
    "    middle = numbers[middle_index]\n",
    "    \n",
    "    if tar_num < middle:\n",
    "        for i in numbers[0:middle-1]:\n",
    "            if i == tar_num:\n",
    "                print(numbers.index(i))\n",
    "    else:\n",
    "        for i in numbers[middle:]:\n",
    "            if i == tar_num:\n",
    "                print('-1')\n",
    "    \n",
    "sorted_num([1,7,4,6,7,8,3,4,10],10)\n",
    "# [1, 3, 4, 4, 6, 7, 7, 8,10]"
   ]
  },
  {
   "cell_type": "markdown",
   "id": "f99abb0d",
   "metadata": {},
   "source": [
    "Write a Python function that takes a string of text and returns a dictionary containing the frequency of each word in the text. \n",
    "The function should ignore case and punctuation."
   ]
  },
  {
   "cell_type": "code",
   "execution_count": null,
   "id": "17de7e40",
   "metadata": {},
   "outputs": [],
   "source": [
    "string = 'Its too late now i remember everything'\n",
    "count = 0\n",
    "c = []\n",
    "s = string.split()\n",
    "for word in s:\n",
    "    for char in word:\n",
    "        count+=1\n",
    "    c.append(count)\n",
    "    count = 0\n",
    "\n",
    "d = dict(zip(s,c))\n",
    "print(d)\n",
    "\n"
   ]
  },
  {
   "cell_type": "markdown",
   "id": "6e924c8c",
   "metadata": {},
   "source": [
    "Write a Python function that takes two sets as input and returns a new set containing only the elements \n",
    "that are present in the first set but not in the second set"
   ]
  },
  {
   "cell_type": "code",
   "execution_count": 2,
   "id": "7e420768",
   "metadata": {},
   "outputs": [
    {
     "name": "stdout",
     "output_type": "stream",
     "text": [
      "{'cherry', 'apple', 'banana'}\n"
     ]
    }
   ],
   "source": [
    "x = {\"apple\", \"banana\", \"cherry\"}\n",
    "y = {\"google\", \"microsoft\", \"apple\", \"banana\"}\n",
    "\n",
    "if x.intersection(y):\n",
    "    print(x)"
   ]
  },
  {
   "cell_type": "markdown",
   "id": "b4bea906",
   "metadata": {},
   "source": [
    "Write a Python program that implements the Collatz conjecture for a positive integer entered by the user.\n",
    "The Collatz conjecture is a conjecture in mathematics that states that if you start with \n",
    "any positive integer, and repeatedly apply the following operation, you will eventually reach the number 1:\n",
    "\n",
    "If the current number is even, divide it by 2.\n",
    "\n",
    "If the current number is odd, multiply it by 3 and add 1."
   ]
  },
  {
   "cell_type": "code",
   "execution_count": 11,
   "id": "89e925d0",
   "metadata": {},
   "outputs": [
    {
     "name": "stdout",
     "output_type": "stream",
     "text": [
      "6 3 10 5 16 8 4 2 1\n"
     ]
    }
   ],
   "source": [
    "def collatz_conjecture(number):\n",
    "    while number!=1:\n",
    "        print(number, end=' ')\n",
    "        if number%2==0:\n",
    "            number//=2\n",
    "        else:\n",
    "            number= number * 3 + 1    \n",
    "    print(number)\n",
    "collatz_conjecture(6)"
   ]
  },
  {
   "cell_type": "code",
   "execution_count": 9,
   "id": "7e6dc7e4",
   "metadata": {},
   "outputs": [
    {
     "name": "stdout",
     "output_type": "stream",
     "text": [
      "6\n",
      "6 3 10 5 16 8 4 2 1\n"
     ]
    }
   ],
   "source": [
    "n = int(input(''))\n",
    "while n != 1:\n",
    "    print(n, end=' ')\n",
    "    if n % 2 == 0:\n",
    "        n //= 2\n",
    "    else:\n",
    "        n = n * 3 + 1\n",
    "print(n)\n"
   ]
  }
 ],
 "metadata": {
  "kernelspec": {
   "display_name": "Python 3 (ipykernel)",
   "language": "python",
   "name": "python3"
  },
  "language_info": {
   "codemirror_mode": {
    "name": "ipython",
    "version": 3
   },
   "file_extension": ".py",
   "mimetype": "text/x-python",
   "name": "python",
   "nbconvert_exporter": "python",
   "pygments_lexer": "ipython3",
   "version": "3.10.9"
  }
 },
 "nbformat": 4,
 "nbformat_minor": 5
}
