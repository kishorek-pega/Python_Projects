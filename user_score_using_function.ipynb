{
 "cells": [
  {
   "cell_type": "code",
   "execution_count": 1,
   "id": "7a03a8f2",
   "metadata": {},
   "outputs": [],
   "source": [
    "### printing the score of the user using the function block!\n",
    "\n",
    "def user_score(read_count, reply_count, new_post_count):\n",
    "    score = read_count + reply_count + new_post_count\n",
    "    \n",
    "    if score >= 50:\n",
    "        print('Leader')\n",
    "    else :\n",
    "        'Basic'\n",
    "user_score(1,3,5)"
   ]
  }
 ],
 "metadata": {
  "kernelspec": {
   "display_name": "Python 3 (ipykernel)",
   "language": "python",
   "name": "python3"
  },
  "language_info": {
   "codemirror_mode": {
    "name": "ipython",
    "version": 3
   },
   "file_extension": ".py",
   "mimetype": "text/x-python",
   "name": "python",
   "nbconvert_exporter": "python",
   "pygments_lexer": "ipython3",
   "version": "3.10.9"
  }
 },
 "nbformat": 4,
 "nbformat_minor": 5
}
