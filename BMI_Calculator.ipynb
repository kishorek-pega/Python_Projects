{
 "cells": [
  {
   "cell_type": "markdown",
   "id": "7e5368b4",
   "metadata": {},
   "source": [
    "BMI Calculator"
   ]
  },
  {
   "cell_type": "code",
   "execution_count": null,
   "id": "f590187e",
   "metadata": {},
   "outputs": [],
   "source": [
    "weight = int(input('Enter your weight in kgs: '))\n",
    "height = int(input('Enter your height in cms: ')) # conversion from centimeter to meter\n",
    "\n",
    "bmi = weight / ((height / 100 )**2) # height power to the 2\n",
    "\n",
    "print(bmi)"
   ]
  }
 ],
 "metadata": {
  "kernelspec": {
   "display_name": "Python 3 (ipykernel)",
   "language": "python",
   "name": "python3"
  },
  "language_info": {
   "codemirror_mode": {
    "name": "ipython",
    "version": 3
   },
   "file_extension": ".py",
   "mimetype": "text/x-python",
   "name": "python",
   "nbconvert_exporter": "python",
   "pygments_lexer": "ipython3",
   "version": "3.10.9"
  }
 },
 "nbformat": 4,
 "nbformat_minor": 5
}
