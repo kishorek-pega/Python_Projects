{
 "cells": [
  {
   "cell_type": "markdown",
   "id": "7cd40f00",
   "metadata": {},
   "source": [
    "Words count in a sentence using the split function"
   ]
  },
  {
   "cell_type": "code",
   "execution_count": 2,
   "id": "65b9aa9b",
   "metadata": {},
   "outputs": [
    {
     "name": "stdout",
     "output_type": "stream",
     "text": [
      "124\n",
      "1 words\n"
     ]
    }
   ],
   "source": [
    "sentence = input()\n",
    "\n",
    "sen = sentence.split()\n",
    "\n",
    "print(len(sen), 'words')"
   ]
  }
 ],
 "metadata": {
  "kernelspec": {
   "display_name": "Python 3 (ipykernel)",
   "language": "python",
   "name": "python3"
  },
  "language_info": {
   "codemirror_mode": {
    "name": "ipython",
    "version": 3
   },
   "file_extension": ".py",
   "mimetype": "text/x-python",
   "name": "python",
   "nbconvert_exporter": "python",
   "pygments_lexer": "ipython3",
   "version": "3.10.9"
  }
 },
 "nbformat": 4,
 "nbformat_minor": 5
}
