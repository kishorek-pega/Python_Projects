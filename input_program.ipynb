{
 "cells": [
  {
   "cell_type": "markdown",
   "id": "f8d1c00d",
   "metadata": {},
   "source": [
    "Program to take input from the user and calculate the quotient!"
   ]
  },
  {
   "cell_type": "code",
   "execution_count": 5,
   "id": "51864240",
   "metadata": {},
   "outputs": [
    {
     "name": "stdout",
     "output_type": "stream",
     "text": [
      "Enter the first number: 18\n",
      "Enter the second number: 3\n",
      "6\n"
     ]
    }
   ],
   "source": [
    "x = int(input('Enter the first number: '))\n",
    "y = int(input('Enter the second number: '))\n",
    "\n",
    "z = x//y\n",
    "print(z)"
   ]
  }
 ],
 "metadata": {
  "kernelspec": {
   "display_name": "Python 3 (ipykernel)",
   "language": "python",
   "name": "python3"
  },
  "language_info": {
   "codemirror_mode": {
    "name": "ipython",
    "version": 3
   },
   "file_extension": ".py",
   "mimetype": "text/x-python",
   "name": "python",
   "nbconvert_exporter": "python",
   "pygments_lexer": "ipython3",
   "version": "3.10.9"
  }
 },
 "nbformat": 4,
 "nbformat_minor": 5
}
