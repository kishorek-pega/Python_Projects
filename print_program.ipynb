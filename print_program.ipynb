{
 "cells": [
  {
   "cell_type": "markdown",
   "id": "409b7787",
   "metadata": {},
   "source": [
    "Prompt an output to the user"
   ]
  },
  {
   "cell_type": "code",
   "execution_count": 1,
   "id": "8262882e",
   "metadata": {},
   "outputs": [
    {
     "name": "stdout",
     "output_type": "stream",
     "text": [
      "Hello Kishore Kumar, Congragulations you have won the lottery\n"
     ]
    }
   ],
   "source": [
    "name = 'Kishore Kumar'\n",
    "\n",
    "print(f'Hello {name}, Congragulations you have won the lottery')"
   ]
  }
 ],
 "metadata": {
  "kernelspec": {
   "display_name": "Python 3 (ipykernel)",
   "language": "python",
   "name": "python3"
  },
  "language_info": {
   "codemirror_mode": {
    "name": "ipython",
    "version": 3
   },
   "file_extension": ".py",
   "mimetype": "text/x-python",
   "name": "python",
   "nbconvert_exporter": "python",
   "pygments_lexer": "ipython3",
   "version": "3.10.9"
  }
 },
 "nbformat": 4,
 "nbformat_minor": 5
}
