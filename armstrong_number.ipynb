{
 "cells": [
  {
   "cell_type": "markdown",
   "id": "209fbbd9",
   "metadata": {},
   "source": [
    "A program to find the armstrong number"
   ]
  },
  {
   "cell_type": "code",
   "execution_count": 3,
   "id": "92968bfa",
   "metadata": {},
   "outputs": [
    {
     "name": "stdout",
     "output_type": "stream",
     "text": [
      "153\n",
      "153 is an armstrong number\n"
     ]
    }
   ],
   "source": [
    "x=input()\n",
    "y=int(x)\n",
    "\n",
    "sum=0\n",
    "\n",
    "for i in x:\n",
    "  sum=sum+int(i)**3\n",
    "\n",
    "if sum==y:\n",
    "  print(sum,'is an armstrong number')"
   ]
  }
 ],
 "metadata": {
  "kernelspec": {
   "display_name": "Python 3 (ipykernel)",
   "language": "python",
   "name": "python3"
  },
  "language_info": {
   "codemirror_mode": {
    "name": "ipython",
    "version": 3
   },
   "file_extension": ".py",
   "mimetype": "text/x-python",
   "name": "python",
   "nbconvert_exporter": "python",
   "pygments_lexer": "ipython3",
   "version": "3.10.9"
  }
 },
 "nbformat": 4,
 "nbformat_minor": 5
}
