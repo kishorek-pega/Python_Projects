{
 "cells": [
  {
   "cell_type": "markdown",
   "id": "2f8cc16e",
   "metadata": {},
   "source": [
    "Program for Prime Number\n"
   ]
  },
  {
   "cell_type": "code",
   "execution_count": 1,
   "id": "f0b20215",
   "metadata": {},
   "outputs": [],
   "source": [
    "def isprime(num):\n",
    "    for i in range(2,num):\n",
    "        if num%i == 0:\n",
    "            return 'Not Prime'\n",
    "    return 'Prime'"
   ]
  },
  {
   "cell_type": "code",
   "execution_count": 6,
   "id": "644114fe",
   "metadata": {},
   "outputs": [
    {
     "data": {
      "text/plain": [
       "'Prime'"
      ]
     },
     "execution_count": 6,
     "metadata": {},
     "output_type": "execute_result"
    }
   ],
   "source": [
    "isprime(17)"
   ]
  }
 ],
 "metadata": {
  "kernelspec": {
   "display_name": "Python 3 (ipykernel)",
   "language": "python",
   "name": "python3"
  },
  "language_info": {
   "codemirror_mode": {
    "name": "ipython",
    "version": 3
   },
   "file_extension": ".py",
   "mimetype": "text/x-python",
   "name": "python",
   "nbconvert_exporter": "python",
   "pygments_lexer": "ipython3",
   "version": "3.10.9"
  }
 },
 "nbformat": 4,
 "nbformat_minor": 5
}
